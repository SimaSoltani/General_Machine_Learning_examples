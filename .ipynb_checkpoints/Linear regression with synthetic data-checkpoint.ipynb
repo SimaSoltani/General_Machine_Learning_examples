{
 "cells": [
  {
   "cell_type": "markdown",
   "metadata": {},
   "source": [
    "This is the example provided by Google colab for linear regression on synthetic data"
   ]
  },
  {
   "cell_type": "code",
   "execution_count": 2,
   "metadata": {},
   "outputs": [],
   "source": [
    "import pandas as pd\n",
    "import tensorflow as tf\n",
    "import matplotlib.pyplot as plt"
   ]
  },
  {
   "cell_type": "code",
   "execution_count": null,
   "metadata": {},
   "outputs": [],
   "source": [
    "def plot_the_model(trained_weight, trained_bias,feature,label):\n",
    "    \"\"\"\n",
    "    plot the trained model against the training feature and label.\n",
    "    \"\"\"\n",
    "    \n",
    "    #Label the axes\n",
    "    plt.xlabel(\"feature\")\n",
    "    plt.ylabel(\"label\")\n",
    "    \n",
    "    \n",
    "    # Plot the feature values vs. label values\n",
    "    plt.scatter(feature,label)\n",
    "    \n",
    "    # Create a red line  reprersenting the model. The red line starts\n",
    "    # at coordinates (x0,y0) and ends at coordinates (x1,y1).\n",
    "    x0 = 0\n",
    "    y0 = trained_bias\n",
    "    x1 = my_feature[-1]\n",
    "    y1 = trained_bias + (trained_weight * x1)\n",
    "    plt.plot([x0,x1],[y0,y1], c='r')\n",
    "    \n",
    "    # render the scatter plot and the red line\n",
    "    plt.show()\n",
    "    \n",
    "def plot_the_loss_curve(epochs,rmse):\n",
    "    \"\"\"\n",
    "    plot the loss curve, which shows the loss vs. epoch.\n",
    "    \"\"\"\n",
    "    \n",
    "    plt.figure()\n",
    "    plt.xlabel(\"Epoch\")\n",
    "    plt.ylabel(\"Root Mean Square Error\")\n",
    "    \n",
    "    plt.plot(epochs, rmse, label='Loss')\n",
    "    plt.legend()\n",
    "    plt.ylim([rmse.min()*0.97,rmse.max()])\n",
    "    plt.show"
   ]
  }
 ],
 "metadata": {
  "kernelspec": {
   "display_name": "Python 3",
   "language": "python",
   "name": "python3"
  },
  "language_info": {
   "codemirror_mode": {
    "name": "ipython",
    "version": 3
   },
   "file_extension": ".py",
   "mimetype": "text/x-python",
   "name": "python",
   "nbconvert_exporter": "python",
   "pygments_lexer": "ipython3",
   "version": "3.7.4"
  }
 },
 "nbformat": 4,
 "nbformat_minor": 4
}
